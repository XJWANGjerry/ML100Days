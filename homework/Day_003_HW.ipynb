{
 "cells": [
  {
   "cell_type": "code",
   "execution_count": null,
   "metadata": {},
   "outputs": [],
   "source": [
    "'''\n",
    "1.隨著我們大家繼續監視圍繞COVID-19疫情的迅速發展態勢，我們想交流一下Facebook的研究投資和學術關係如何受到影響。在這種前所未有的情況下，我們向研究界表示同情，並且我們了解大學在現在和未來幾個月內可能會在支持資助計劃方面遇到一些挑戰。\n",
    "2.為了減少COVID-19的傳播，我們已取消了截至6月底的所有現場研究活動。為了適應這些變化，我們正在計劃新的方式來建立我們的在線社區並支持遠程協作和聯網。為了與學術界保持聯繫並分享Facebook正在開展的工作，我們計劃製作更多在線內容，例如視頻，與研究人員的問答，以及便利的虛擬網絡。\n",
    "3.Facebook將全力支持我們當前所有的大學研究實驗室和研究財團的讚助，並且我們將繼續探索新的機會。\n",
    "'''"
   ]
  }
 ],
 "metadata": {
  "kernelspec": {
   "display_name": "Python 3",
   "language": "python",
   "name": "python3"
  },
  "language_info": {
   "codemirror_mode": {
    "name": "ipython",
    "version": 3
   },
   "file_extension": ".py",
   "mimetype": "text/x-python",
   "name": "python",
   "nbconvert_exporter": "python",
   "pygments_lexer": "ipython3",
   "version": "3.7.6"
  }
 },
 "nbformat": 4,
 "nbformat_minor": 4
}
