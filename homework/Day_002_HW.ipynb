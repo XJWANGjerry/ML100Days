{
 "cells": [
  {
   "cell_type": "code",
   "execution_count": null,
   "metadata": {},
   "outputs": [],
   "source": [
    "'''\n",
    "本人工作與半導體廠相關，所以看到的東西都偏向於數據庫的方面，個人認為可以透過機器學習紀錄常見的WAT fail，當收集一定數量的data可以透過這些data\n",
    "來速判到底是哪到製程出問題，可以節省這些省下來的時間去達成更有意義的事情，這個很適合用於半導體廠。\n",
    "當然機器學習本身除了數據庫還有其他功能，譬如當作搜尋引擎、最近很紅的新灌肺炎診斷etc. ，而目前大家比較關注的應該是機器人的部分，說道AI就想到\n",
    "機器人，有FAB常用的機械手臂、機械狗，掃地機器人等等。\n",
    "\n",
    "'''"
   ]
  }
 ],
 "metadata": {
  "kernelspec": {
   "display_name": "Python 3",
   "language": "python",
   "name": "python3"
  },
  "language_info": {
   "codemirror_mode": {
    "name": "ipython",
    "version": 3
   },
   "file_extension": ".py",
   "mimetype": "text/x-python",
   "name": "python",
   "nbconvert_exporter": "python",
   "pygments_lexer": "ipython3",
   "version": "3.7.6"
  }
 },
 "nbformat": 4,
 "nbformat_minor": 4
}
